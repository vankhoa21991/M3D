{
 "cells": [
  {
   "cell_type": "code",
   "execution_count": 1,
   "metadata": {},
   "outputs": [],
   "source": [
    "csv_paths = [\n",
    "    \"/home/vankhoa@median.cad/code/public/M3D/LaMed/output/LaMed-finetune-0000/eval_caption/eval_caption.csv\",\n",
    "    \"/home/vankhoa@median.cad/code/public/M3D/LaMed/output/LaMed-Phi3-4B-finetune-0000/eval_vqa/eval_close_vqa.csv\"\n",
    "]"
   ]
  },
  {
   "cell_type": "code",
   "execution_count": 2,
   "metadata": {},
   "outputs": [],
   "source": [
    "import pandas as pd\n",
    "import numpy as np\n",
    "import matplotlib.pyplot as plt\n",
    "import seaborn as sns"
   ]
  },
  {
   "cell_type": "code",
   "execution_count": 4,
   "metadata": {},
   "outputs": [
    {
     "name": "stdout",
     "output_type": "stream",
     "text": [
      "                                            Question  \\\n",
      "0  <im_patch><im_patch><im_patch><im_patch><im_pa...   \n",
      "1  <im_patch><im_patch><im_patch><im_patch><im_pa...   \n",
      "2  <im_patch><im_patch><im_patch><im_patch><im_pa...   \n",
      "3  <im_patch><im_patch><im_patch><im_patch><im_pa...   \n",
      "4  <im_patch><im_patch><im_patch><im_patch><im_pa...   \n",
      "\n",
      "                                        Ground Truth  \\\n",
      "0  Streak artefact from left total hip replacemen...   \n",
      "1  A 76×57×54mm mass is seen in the left kidney. ...   \n",
      "2  Situs solitus with cardiac apex to the left. A...   \n",
      "3  Gross left-sided proptosis with a low-density ...   \n",
      "4  A well defined triangular lesion is seen in po...   \n",
      "\n",
      "                                                pred      bleu    rouge1  \\\n",
      "0  There is a large amount of free gas within the...  0.037463  0.162896   \n",
      "1  A 100×70 mm mass is present at the anatomical ...  0.283784  0.323144   \n",
      "2  There is a large embolus located at the base o...  0.008082  0.172414   \n",
      "3  A well-defined 3 x 3 cm hypodense collection i...  0.154814  0.150943   \n",
      "4  A large heterogeneously enhancing mass lesion ...  0.188889  0.230769   \n",
      "\n",
      "     meteor   bert_f1  \n",
      "0  0.066707  0.818425  \n",
      "1  0.260188  0.847947  \n",
      "2  0.074011  0.826398  \n",
      "3  0.123243  0.834135  \n",
      "4  0.136986  0.823935  \n",
      "   Question Type                                           Question  \\\n",
      "0              4  <im_patch><im_patch><im_patch><im_patch><im_pa...   \n",
      "1              3  <im_patch><im_patch><im_patch><im_patch><im_pa...   \n",
      "2              4  <im_patch><im_patch><im_patch><im_patch><im_pa...   \n",
      "3              1  <im_patch><im_patch><im_patch><im_patch><im_pa...   \n",
      "4              5  <im_patch><im_patch><im_patch><im_patch><im_pa...   \n",
      "\n",
      "                   Answer Answer Choice                     Pred  Correct  \n",
      "0  A. Left lower quadrant             A  B. Right lower quadrant        0  \n",
      "1               B. Spleen             B                 A. Liver        0  \n",
      "2  C. Mesenteric ischemia             C   C. Mesenteric ischemia        1  \n",
      "3                A. Axial             A                 A. Axial        1  \n",
      "4           A. Superiorly             A            B. Inferiorly        0  \n"
     ]
    }
   ],
   "source": [
    "df_caption = pd.read_csv(csv_paths[0])\n",
    "df_vqa = pd.read_csv(csv_paths[1])\n",
    "\n",
    "print(df_caption.head())\n",
    "print(df_vqa.head())"
   ]
  },
  {
   "cell_type": "code",
   "execution_count": 8,
   "metadata": {},
   "outputs": [],
   "source": [
    "# remove all the <im_patch> values in the Question column\n",
    "df_vqa['Question'] = df_vqa['Question'].str.replace('<im_patch>', '')\n",
    "df_vqa['Question'] = df_vqa['Question'].str.replace('</im_patch>', '')\n",
    "\n",
    "# remove all the <im_patch> values in the Answer column\n",
    "df_caption['Question'] = df_caption['Question'].str.replace('<im_patch>', '')\n",
    "df_caption['Question'] = df_caption['Question'].str.replace('</im_patch>', '')\n"
   ]
  },
  {
   "cell_type": "code",
   "execution_count": 9,
   "metadata": {},
   "outputs": [
    {
     "data": {
      "text/html": [
       "<div>\n",
       "<style scoped>\n",
       "    .dataframe tbody tr th:only-of-type {\n",
       "        vertical-align: middle;\n",
       "    }\n",
       "\n",
       "    .dataframe tbody tr th {\n",
       "        vertical-align: top;\n",
       "    }\n",
       "\n",
       "    .dataframe thead th {\n",
       "        text-align: right;\n",
       "    }\n",
       "</style>\n",
       "<table border=\"1\" class=\"dataframe\">\n",
       "  <thead>\n",
       "    <tr style=\"text-align: right;\">\n",
       "      <th></th>\n",
       "      <th>Question Type</th>\n",
       "      <th>Question</th>\n",
       "      <th>Answer</th>\n",
       "      <th>Answer Choice</th>\n",
       "      <th>Pred</th>\n",
       "      <th>Correct</th>\n",
       "    </tr>\n",
       "  </thead>\n",
       "  <tbody>\n",
       "    <tr>\n",
       "      <th>0</th>\n",
       "      <td>4</td>\n",
       "      <td>Where does the narrowed transition point, whe...</td>\n",
       "      <td>A. Left lower quadrant</td>\n",
       "      <td>A</td>\n",
       "      <td>B. Right lower quadrant</td>\n",
       "      <td>0</td>\n",
       "    </tr>\n",
       "    <tr>\n",
       "      <th>1</th>\n",
       "      <td>3</td>\n",
       "      <td>Which organ shows cranial displacement due to...</td>\n",
       "      <td>B. Spleen</td>\n",
       "      <td>B</td>\n",
       "      <td>A. Liver</td>\n",
       "      <td>0</td>\n",
       "    </tr>\n",
       "    <tr>\n",
       "      <th>2</th>\n",
       "      <td>4</td>\n",
       "      <td>What is the nature of the thickened small bow...</td>\n",
       "      <td>C. Mesenteric ischemia</td>\n",
       "      <td>C</td>\n",
       "      <td>C. Mesenteric ischemia</td>\n",
       "      <td>1</td>\n",
       "    </tr>\n",
       "    <tr>\n",
       "      <th>3</th>\n",
       "      <td>1</td>\n",
       "      <td>In which plane is the small bowel with mesent...</td>\n",
       "      <td>A. Axial</td>\n",
       "      <td>A</td>\n",
       "      <td>A. Axial</td>\n",
       "      <td>1</td>\n",
       "    </tr>\n",
       "    <tr>\n",
       "      <th>4</th>\n",
       "      <td>5</td>\n",
       "      <td>Where is the splenic flexure displaced in the...</td>\n",
       "      <td>A. Superiorly</td>\n",
       "      <td>A</td>\n",
       "      <td>B. Inferiorly</td>\n",
       "      <td>0</td>\n",
       "    </tr>\n",
       "  </tbody>\n",
       "</table>\n",
       "</div>"
      ],
      "text/plain": [
       "   Question Type                                           Question  \\\n",
       "0              4   Where does the narrowed transition point, whe...   \n",
       "1              3   Which organ shows cranial displacement due to...   \n",
       "2              4   What is the nature of the thickened small bow...   \n",
       "3              1   In which plane is the small bowel with mesent...   \n",
       "4              5   Where is the splenic flexure displaced in the...   \n",
       "\n",
       "                   Answer Answer Choice                     Pred  Correct  \n",
       "0  A. Left lower quadrant             A  B. Right lower quadrant        0  \n",
       "1               B. Spleen             B                 A. Liver        0  \n",
       "2  C. Mesenteric ischemia             C   C. Mesenteric ischemia        1  \n",
       "3                A. Axial             A                 A. Axial        1  \n",
       "4           A. Superiorly             A            B. Inferiorly        0  "
      ]
     },
     "execution_count": 9,
     "metadata": {},
     "output_type": "execute_result"
    }
   ],
   "source": [
    "df_vqa.head()"
   ]
  },
  {
   "cell_type": "code",
   "execution_count": 10,
   "metadata": {},
   "outputs": [
    {
     "data": {
      "text/html": [
       "<div>\n",
       "<style scoped>\n",
       "    .dataframe tbody tr th:only-of-type {\n",
       "        vertical-align: middle;\n",
       "    }\n",
       "\n",
       "    .dataframe tbody tr th {\n",
       "        vertical-align: top;\n",
       "    }\n",
       "\n",
       "    .dataframe thead th {\n",
       "        text-align: right;\n",
       "    }\n",
       "</style>\n",
       "<table border=\"1\" class=\"dataframe\">\n",
       "  <thead>\n",
       "    <tr style=\"text-align: right;\">\n",
       "      <th></th>\n",
       "      <th>Question</th>\n",
       "      <th>Ground Truth</th>\n",
       "      <th>pred</th>\n",
       "      <th>bleu</th>\n",
       "      <th>rouge1</th>\n",
       "      <th>meteor</th>\n",
       "      <th>bert_f1</th>\n",
       "    </tr>\n",
       "  </thead>\n",
       "  <tbody>\n",
       "    <tr>\n",
       "      <th>0</th>\n",
       "      <td>Can you provide a diagnosis based on the findi...</td>\n",
       "      <td>Streak artefact from left total hip replacemen...</td>\n",
       "      <td>There is a large amount of free gas within the...</td>\n",
       "      <td>0.037463</td>\n",
       "      <td>0.162896</td>\n",
       "      <td>0.066707</td>\n",
       "      <td>0.818425</td>\n",
       "    </tr>\n",
       "    <tr>\n",
       "      <th>1</th>\n",
       "      <td>Can you generate a diagnose report from this i...</td>\n",
       "      <td>A 76×57×54mm mass is seen in the left kidney. ...</td>\n",
       "      <td>A 100×70 mm mass is present at the anatomical ...</td>\n",
       "      <td>0.283784</td>\n",
       "      <td>0.323144</td>\n",
       "      <td>0.260188</td>\n",
       "      <td>0.847947</td>\n",
       "    </tr>\n",
       "    <tr>\n",
       "      <th>2</th>\n",
       "      <td>Can you generate a diagnose report from this i...</td>\n",
       "      <td>Situs solitus with cardiac apex to the left. A...</td>\n",
       "      <td>There is a large embolus located at the base o...</td>\n",
       "      <td>0.008082</td>\n",
       "      <td>0.172414</td>\n",
       "      <td>0.074011</td>\n",
       "      <td>0.826398</td>\n",
       "    </tr>\n",
       "    <tr>\n",
       "      <th>3</th>\n",
       "      <td>What are the findings presented in this medica...</td>\n",
       "      <td>Gross left-sided proptosis with a low-density ...</td>\n",
       "      <td>A well-defined 3 x 3 cm hypodense collection i...</td>\n",
       "      <td>0.154814</td>\n",
       "      <td>0.150943</td>\n",
       "      <td>0.123243</td>\n",
       "      <td>0.834135</td>\n",
       "    </tr>\n",
       "    <tr>\n",
       "      <th>4</th>\n",
       "      <td>Please provide a detailed caption outlining th...</td>\n",
       "      <td>A well defined triangular lesion is seen in po...</td>\n",
       "      <td>A large heterogeneously enhancing mass lesion ...</td>\n",
       "      <td>0.188889</td>\n",
       "      <td>0.230769</td>\n",
       "      <td>0.136986</td>\n",
       "      <td>0.823935</td>\n",
       "    </tr>\n",
       "  </tbody>\n",
       "</table>\n",
       "</div>"
      ],
      "text/plain": [
       "                                            Question  \\\n",
       "0  Can you provide a diagnosis based on the findi...   \n",
       "1  Can you generate a diagnose report from this i...   \n",
       "2  Can you generate a diagnose report from this i...   \n",
       "3  What are the findings presented in this medica...   \n",
       "4  Please provide a detailed caption outlining th...   \n",
       "\n",
       "                                        Ground Truth  \\\n",
       "0  Streak artefact from left total hip replacemen...   \n",
       "1  A 76×57×54mm mass is seen in the left kidney. ...   \n",
       "2  Situs solitus with cardiac apex to the left. A...   \n",
       "3  Gross left-sided proptosis with a low-density ...   \n",
       "4  A well defined triangular lesion is seen in po...   \n",
       "\n",
       "                                                pred      bleu    rouge1  \\\n",
       "0  There is a large amount of free gas within the...  0.037463  0.162896   \n",
       "1  A 100×70 mm mass is present at the anatomical ...  0.283784  0.323144   \n",
       "2  There is a large embolus located at the base o...  0.008082  0.172414   \n",
       "3  A well-defined 3 x 3 cm hypodense collection i...  0.154814  0.150943   \n",
       "4  A large heterogeneously enhancing mass lesion ...  0.188889  0.230769   \n",
       "\n",
       "     meteor   bert_f1  \n",
       "0  0.066707  0.818425  \n",
       "1  0.260188  0.847947  \n",
       "2  0.074011  0.826398  \n",
       "3  0.123243  0.834135  \n",
       "4  0.136986  0.823935  "
      ]
     },
     "execution_count": 10,
     "metadata": {},
     "output_type": "execute_result"
    }
   ],
   "source": [
    "df_caption.head()"
   ]
  },
  {
   "cell_type": "code",
   "execution_count": 17,
   "metadata": {},
   "outputs": [
    {
     "name": "stdout",
     "output_type": "stream",
     "text": [
      "The mean of the bleu is 0.1488952139584302\n",
      "The mean of the rouge1 is 0.18849907999157622\n",
      "The mean of the meteor is 0.13723206413077702\n",
      "The mean of the bert_f1 is 0.8370062502324581\n"
     ]
    }
   ],
   "source": [
    "# calculate the mean of the score of the df_caption (bleu, rouge1, meteor, bert_f1)\n",
    "df_caption['bleu'] = df_caption['bleu'].astype(float)\n",
    "df_caption['rouge1'] = df_caption['rouge1'].astype(float)\n",
    "df_caption['meteor'] = df_caption['meteor'].astype(float)\n",
    "df_caption['bert_f1'] = df_caption['bert_f1'].astype(float)\n",
    "\n",
    "print(f\"The mean of the bleu is {df_caption['bleu'].mean()}\")\n",
    "print(f\"The mean of the rouge1 is {df_caption['rouge1'].mean()}\")\n",
    "print(f\"The mean of the meteor is {df_caption['meteor'].mean()}\")\n",
    "print(f\"The mean of the bert_f1 is {df_caption['bert_f1'].mean()}\")"
   ]
  },
  {
   "cell_type": "code",
   "execution_count": 16,
   "metadata": {},
   "outputs": [
    {
     "name": "stdout",
     "output_type": "stream",
     "text": [
      "The accuracy of the df_vqa is 0.7665869045029367\n"
     ]
    }
   ],
   "source": [
    "# calculate the accuracy of the df_vqa by Pred and Correct\n",
    "df_vqa['accuracy'] = len(df_vqa[df_vqa[\"Correct\"] == 1]) / df_vqa.shape[0]\n",
    "print(f\"The accuracy of the df_vqa is {df_vqa['accuracy'].mean()}\")"
   ]
  },
  {
   "cell_type": "code",
   "execution_count": 21,
   "metadata": {},
   "outputs": [
    {
     "name": "stdout",
     "output_type": "stream",
     "text": [
      "The accuracy of the df_vqa for 4 is 0.7042020285655144\n",
      "The accuracy of the df_vqa for 3 is 0.774\n",
      "The accuracy of the df_vqa for 1 is 0.987\n",
      "The accuracy of the df_vqa for 5 is 0.6493243243243243\n",
      "The accuracy of the df_vqa for 2 is 0.863\n"
     ]
    }
   ],
   "source": [
    "# calculate the accuracy of the df_vqa by Pred and Correct for each question type\n",
    "question_types = df_vqa['Question Type'].unique()\n",
    "for question_type in question_types:\n",
    "    df_vqa_type = df_vqa[df_vqa['Question Type'] == question_type]\n",
    "    accuracy = len(df_vqa_type[df_vqa_type[\"Correct\"] == 1]) / df_vqa_type.shape[0]\n",
    "    print(f\"The accuracy of the df_vqa for {question_type} is {accuracy}\")\n",
    "\n"
   ]
  },
  {
   "cell_type": "code",
   "execution_count": null,
   "metadata": {},
   "outputs": [],
   "source": []
  }
 ],
 "metadata": {
  "kernelspec": {
   "display_name": "venv_py311",
   "language": "python",
   "name": "python3"
  },
  "language_info": {
   "codemirror_mode": {
    "name": "ipython",
    "version": 3
   },
   "file_extension": ".py",
   "mimetype": "text/x-python",
   "name": "python",
   "nbconvert_exporter": "python",
   "pygments_lexer": "ipython3",
   "version": "3.11.11"
  }
 },
 "nbformat": 4,
 "nbformat_minor": 2
}
